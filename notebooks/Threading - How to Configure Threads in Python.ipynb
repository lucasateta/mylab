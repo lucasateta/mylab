{
 "cells": [
  {
   "cell_type": "markdown",
   "id": "8d2f7aac",
   "metadata": {},
   "source": [
    "# How to Configure a Thread\n",
    "\n",
    "There are two attributes of the thread that we can configure, they are:\n",
    "- **Thread name**: the named used to identify the thread\n",
    "- **Thread daemon**: whether the thread is a background thread (daemon) or not.\n",
    "\n",
    "Setting a unique or meaningful thread name is helpful when debugging and logging to differentiate it from other possible threads of execution.\n",
    "\n",
    "Example:"
   ]
  },
  {
   "cell_type": "code",
   "execution_count": 1,
   "id": "78ba92fd",
   "metadata": {},
   "outputs": [],
   "source": [
    "import threading\n",
    "from threading import Thread, Lock, RLock, Event, Condition, current_thread\n",
    "from time import sleep"
   ]
  },
  {
   "cell_type": "code",
   "execution_count": 27,
   "id": "a9ac2fff",
   "metadata": {},
   "outputs": [
    {
     "name": "stdout",
     "output_type": "stream",
     "text": [
      "MyThread\n",
      "True\n"
     ]
    }
   ],
   "source": [
    "thread = Thread(name='MyThread', daemon=True)\n",
    "\n",
    "print(thread.name)\n",
    "print(thread.daemon)"
   ]
  },
  {
   "cell_type": "markdown",
   "id": "9ec50946",
   "metadata": {},
   "source": [
    "# How to Use Daemon Threads\n",
    "\n",
    "A daemon thread is a background thread.\n",
    "\n",
    "Use of daemon threads might include:\n",
    "- Background logging to file or database.\n",
    "- Background data retrieval, updates, refresh.\n",
    "- Background data storage to disk or database."
   ]
  },
  {
   "cell_type": "code",
   "execution_count": 28,
   "id": "505ed450",
   "metadata": {},
   "outputs": [
    {
     "name": "stdout",
     "output_type": "stream",
     "text": [
      "Daemon thread: True\n"
     ]
    }
   ],
   "source": [
    "def task():\n",
    "    # get the current thread\n",
    "    thread = current_thread()\n",
    "    print(f\"Daemon thread: {thread.daemon}\")\n",
    "\n",
    "thread = Thread(target=task, daemon=True)\n",
    "thread.start()\n",
    "thread.join()"
   ]
  },
  {
   "cell_type": "markdown",
   "id": "e4291c12",
   "metadata": {},
   "source": [
    "## Change a Thread to be a Daemon"
   ]
  },
  {
   "cell_type": "code",
   "execution_count": 29,
   "id": "b639aa3e",
   "metadata": {},
   "outputs": [
    {
     "name": "stdout",
     "output_type": "stream",
     "text": [
      "Daemon thread: True\n"
     ]
    }
   ],
   "source": [
    "def task():\n",
    "    thread = current_thread()\n",
    "    print(f\"Daemon thread: {thread.daemon}\")\n",
    "    \n",
    "thread = Thread(target=task)\n",
    "thread.daemon = True\n",
    "thread.start()\n",
    "thread.join()"
   ]
  },
  {
   "cell_type": "markdown",
   "id": "8c6b0d08",
   "metadata": {},
   "source": [
    "## Create a Daemon Thread from a Daemon Thread"
   ]
  },
  {
   "cell_type": "code",
   "execution_count": 30,
   "id": "e9da4153",
   "metadata": {},
   "outputs": [
    {
     "name": "stdout",
     "output_type": "stream",
     "text": [
      "Daemon thread 1: True\n",
      "Daemon thread 2: True\n"
     ]
    }
   ],
   "source": [
    "def task2():\n",
    "    thread = current_thread()\n",
    "    print(f\"Daemon thread 2: {thread.daemon}\")\n",
    "    \n",
    "def task():\n",
    "    thread = current_thread()\n",
    "    print(f\"Daemon thread 1: {thread.daemon}\")\n",
    "    \n",
    "    # The daemon property of the new thread will inherit from the current thread\n",
    "    new_thread = Thread(target=task2)\n",
    "    new_thread.start()\n",
    "    new_thread.join()\n",
    "    \n",
    "thread = Thread(target=task, daemon=True)\n",
    "thread.start()\n",
    "thread.join()"
   ]
  },
  {
   "cell_type": "markdown",
   "id": "8b05a66a",
   "metadata": {},
   "source": [
    "## Terminate Daemon Threads Abruptly\n",
    "\n",
    "Python process will exit once all non-daemon threads have terminated. Daemon threads are abruptly stopped at shutdown. Their resources may not be released properly."
   ]
  },
  {
   "cell_type": "code",
   "execution_count": 3,
   "id": "a02bd986",
   "metadata": {},
   "outputs": [],
   "source": [
    "# function to be executed in a new thread\n",
    "def daemon_task():\n",
    "    # get the current thread\n",
    "    thread = current_thread()\n",
    "    # report if daemon thread\n",
    "    print(f'Daemon thread: {thread.daemon}')\n",
    "    # loop for a while\n",
    "    for i in range(1000):\n",
    "        print(i)\n",
    "        # block for a moment\n",
    "        sleep(0.1)\n",
    " \n",
    "def task():\n",
    "    # create a new daemon thread\n",
    "    daemon_thread = Thread(target=daemon_task, daemon=True)\n",
    "    # start the new thread\n",
    "    daemon_thread.start()\n",
    "    # block for a moment to let the daemon thread run\n",
    "    sleep(3)\n",
    "    # prepare the user\n",
    "    print('Worker thread exiting...')\n",
    "\n",
    "thread = Thread(target=task)\n",
    "\n",
    "# Don't run the following two lines of code\n",
    "# thread.start()\n",
    "# thread.join()"
   ]
  },
  {
   "cell_type": "markdown",
   "id": "3c4d4c5d",
   "metadata": {},
   "source": [
    "## Handle Unexpected Exceptions in Threads"
   ]
  },
  {
   "cell_type": "code",
   "execution_count": 4,
   "id": "eb0b1265",
   "metadata": {},
   "outputs": [
    {
     "name": "stdout",
     "output_type": "stream",
     "text": [
      "Working...\n"
     ]
    },
    {
     "name": "stderr",
     "output_type": "stream",
     "text": [
      "Exception in thread Thread-6 (task):\n",
      "Traceback (most recent call last):\n",
      "  File \"C:\\Users\\iwewa\\.pyenv\\pyenv-win\\versions\\3.11.3\\Lib\\threading.py\", line 1038, in _bootstrap_inner\n",
      "    self.run()\n",
      "  File \"C:\\Users\\iwewa\\.pyenv\\pyenv-win\\versions\\3.11.3\\Lib\\threading.py\", line 975, in run\n",
      "    self._target(*self._args, **self._kwargs)\n",
      "  File \"C:\\Users\\iwewa\\AppData\\Local\\Temp\\ipykernel_11236\\3635390440.py\", line 7, in task\n",
      "Exception: Something went bad.\n"
     ]
    }
   ],
   "source": [
    "def custom_hook(args):\n",
    "    print(f\"Thread failed: {args.exc_value}\")\n",
    "\n",
    "def task():\n",
    "    print(\"Working...\")\n",
    "    sleep(1)\n",
    "    raise Exception(\"Something went bad.\")\n",
    "\n",
    "oldhook = threading.excepthook\n",
    "threading.excepthook = custom_hook\n",
    "thread = Thread(target=task)\n",
    "thread.start()\n",
    "thread.join()\n",
    "threading.excepthook = oldhook"
   ]
  },
  {
   "cell_type": "code",
   "execution_count": 3,
   "id": "0d653641",
   "metadata": {},
   "outputs": [
    {
     "data": {
      "text/plain": [
       "<function _thread._excepthook>"
      ]
     },
     "execution_count": 3,
     "metadata": {},
     "output_type": "execute_result"
    }
   ],
   "source": [
    "threading.excepthook"
   ]
  },
  {
   "cell_type": "markdown",
   "id": "03b5ccc9",
   "metadata": {},
   "source": [
    "## Blocking Calls"
   ]
  },
  {
   "cell_type": "code",
   "execution_count": 3,
   "id": "2f84d150",
   "metadata": {},
   "outputs": [
    {
     "name": "stdout",
     "output_type": "stream",
     "text": [
      "lock acquired\n",
      "lock released\n"
     ]
    }
   ],
   "source": [
    "lock = Lock()\n",
    "with lock:\n",
    "    print(\"lock acquired\")\n",
    "print(\"lock released\")"
   ]
  },
  {
   "cell_type": "code",
   "execution_count": 5,
   "id": "dd3ad126",
   "metadata": {},
   "outputs": [
    {
     "name": "stdout",
     "output_type": "stream",
     "text": [
      "condition acquired\n",
      "<_MainThread(MainThread, started 29136)>\n",
      "<Thread(Thread-7 (waiter), started 33300)>\n",
      "Block on waiting for condition\n",
      "<_MainThread(MainThread, started 29136)>\n",
      "<Thread(Thread-8 (busboy), started 36824)>\n",
      "condition met\n"
     ]
    }
   ],
   "source": [
    "condition = Condition()\n",
    "with condition:\n",
    "    print(\"condition acquired\")\n",
    "    \n",
    "def waiter():\n",
    "    print(threading.main_thread())\n",
    "    print(threading.current_thread())\n",
    "    with condition:\n",
    "        print(\"Block on waiting for condition\")\n",
    "        condition.wait()\n",
    "        print(\"condition met\")\n",
    "def busboy():\n",
    "    print(threading.main_thread())\n",
    "    print(threading.current_thread())\n",
    "    with condition:\n",
    "        condition.notify()\n",
    "        \n",
    "thread_waiter = Thread(target=waiter)\n",
    "thread_waiter.start()\n",
    "thread_busboy = Thread(target=busboy)\n",
    "thread_busboy.start()"
   ]
  },
  {
   "cell_type": "markdown",
   "id": "0da9754a",
   "metadata": {},
   "source": [
    "## Query Thread Attributes"
   ]
  },
  {
   "cell_type": "code",
   "execution_count": 7,
   "id": "625b2f16",
   "metadata": {},
   "outputs": [
    {
     "name": "stdout",
     "output_type": "stream",
     "text": [
      "Thread-10 (worker)\n",
      "None\n",
      "False\n",
      "None\n",
      "False\n",
      "[<_MainThread(MainThread, started 29136)>, <Thread(IOPub, started daemon 18944)>, <Heartbeat(Heartbeat, started daemon 35044)>, <ControlThread(Control, started daemon 20488)>, <HistorySavingThread(IPythonHistorySavingThread, started 36936)>, <ParentPollerWindows(Thread-4, started daemon 29312)>]\n"
     ]
    }
   ],
   "source": [
    "def worker():\n",
    "    pass\n",
    "\n",
    "thread = Thread(target=worker)\n",
    "print(thread.name)\n",
    "print(thread.ident)\n",
    "print(thread.daemon)\n",
    "print(thread.native_id)\n",
    "print(thread.is_alive())\n",
    "\n",
    "# Enumerate active threads\n",
    "print(threading.enumerate())"
   ]
  },
  {
   "cell_type": "markdown",
   "id": "da5dba29",
   "metadata": {},
   "source": [
    "## Wait for a Result from a Thread"
   ]
  },
  {
   "cell_type": "code",
   "execution_count": null,
   "id": "e184710d",
   "metadata": {},
   "outputs": [],
   "source": [
    "# Use instance variables on an extend Thread\n",
    "\n",
    "# Use a queue.Queue to share a result between threads\n",
    "\n",
    "# Use a global variable to share a result between threads\n"
   ]
  }
 ],
 "metadata": {
  "kernelspec": {
   "display_name": "Python 3 (ipykernel)",
   "language": "python",
   "name": "python3"
  },
  "language_info": {
   "codemirror_mode": {
    "name": "ipython",
    "version": 3
   },
   "file_extension": ".py",
   "mimetype": "text/x-python",
   "name": "python",
   "nbconvert_exporter": "python",
   "pygments_lexer": "ipython3",
   "version": "3.11.3"
  }
 },
 "nbformat": 4,
 "nbformat_minor": 5
}
